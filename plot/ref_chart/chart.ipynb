{
 "cells": [
  {
   "cell_type": "code",
   "execution_count": null,
   "metadata": {},
   "outputs": [
    {
     "data": {
      "text/plain": [
       "[(98, 0, [1078, 1086, 2183, 2191, 3288, 3296]),\n",
       " (78, 0, [858, 866, 1963, 1971, 3068, 3076]),\n",
       " (58, 0, [638, 646, 1743, 1751, 2848, 2856]),\n",
       " (38, 0, [418, 426, 1523, 1531, 2628, 2636]),\n",
       " (18, 0, [198, 206, 1303, 1311, 2408, 2416]),\n",
       " (99, 0, [1089, 1097, 2194, 2202, 3299, 3307]),\n",
       " (79, 0, [869, 877, 1974, 1982, 3079, 3087]),\n",
       " (59, 0, [649, 657, 1754, 1762, 2859, 2867]),\n",
       " (39, 0, [429, 437, 1534, 1542, 2639, 2647]),\n",
       " (19, 0, [209, 217, 1314, 1322, 2419, 2427]),\n",
       " (80, 0, [880, 888, 1985, 1993, 3090, 3098]),\n",
       " (60, 0, [660, 668, 1765, 1773, 2870, 2878]),\n",
       " (40, 0, [440, 448, 1545, 1553, 2650, 2658]),\n",
       " (20, 0, [220, 228, 1325, 1333, 2430, 2438]),\n",
       " (0, 0, [0, 8, 1105, 1113, 2210, 2218]),\n",
       " (81, 0, [891, 899, 1996, 2004, 3101, 3109]),\n",
       " (61, 0, [671, 679, 1776, 1784, 2881, 2889]),\n",
       " (41, 0, [451, 459, 1556, 1564, 2661, 2669]),\n",
       " (21, 0, [231, 239, 1336, 1344, 2441, 2449]),\n",
       " (1, 0, [11, 19, 1116, 1124, 2221, 2229]),\n",
       " (82, 0, [902, 910, 2007, 2015, 3112, 3120]),\n",
       " (62, 0, [682, 690, 1787, 1795, 2892, 2900]),\n",
       " (42, 0, [462, 470, 1567, 1575, 2672, 2680]),\n",
       " (22, 0, [242, 250, 1347, 1355, 2452, 2460]),\n",
       " (2, 0, [22, 30, 1127, 1135, 2232, 2240]),\n",
       " (83, 0, [913, 921, 2018, 2026, 3123, 3131]),\n",
       " (63, 0, [693, 701, 1798, 1806, 2903, 2911]),\n",
       " (43, 0, [473, 481, 1578, 1586, 2683, 2691]),\n",
       " (23, 0, [253, 261, 1358, 1366, 2463, 2471]),\n",
       " (3, 0, [33, 41, 1138, 1146, 2243, 2251]),\n",
       " (84, 0, [924, 932, 2029, 2037, 3134, 3142]),\n",
       " (64, 0, [704, 712, 1809, 1817, 2914, 2922]),\n",
       " (44, 0, [484, 492, 1589, 1597, 2694, 2702]),\n",
       " (24, 0, [264, 272, 1369, 1377, 2474, 2482]),\n",
       " (4, 0, [44, 52, 1149, 1157, 2254, 2262]),\n",
       " (85, 0, [935, 943, 2040, 2048, 3145, 3153]),\n",
       " (65, 0, [715, 723, 1820, 1828, 2925, 2933]),\n",
       " (45, 0, [495, 503, 1600, 1608, 2705, 2713]),\n",
       " (25, 0, [275, 283, 1380, 1388, 2485, 2493]),\n",
       " (5, 0, [55, 63, 1160, 1168, 2265, 2273]),\n",
       " (86, 0, [946, 954, 2051, 2059, 3156, 3164]),\n",
       " (66, 0, [726, 734, 1831, 1839, 2936, 2944]),\n",
       " (46, 0, [506, 514, 1611, 1619, 2716, 2724]),\n",
       " (26, 0, [286, 294, 1391, 1399, 2496, 2504]),\n",
       " (6, 0, [66, 74, 1171, 1179, 2276, 2284]),\n",
       " (87, 0, [957, 965, 2062, 2070, 3167, 3175]),\n",
       " (67, 0, [737, 745, 1842, 1850, 2947, 2955]),\n",
       " (47, 0, [517, 525, 1622, 1630, 2727, 2735]),\n",
       " (27, 0, [297, 305, 1402, 1410, 2507, 2515]),\n",
       " (7, 0, [77, 85, 1182, 1190, 2287, 2295]),\n",
       " (88, 0, [968, 976, 2073, 2081, 3178, 3186]),\n",
       " (68, 0, [748, 756, 1853, 1861, 2958, 2966]),\n",
       " (48, 0, [528, 536, 1633, 1641, 2738, 2746]),\n",
       " (28, 0, [308, 316, 1413, 1421, 2518, 2526]),\n",
       " (8, 0, [88, 96, 1193, 1201, 2298, 2306]),\n",
       " (89, 0, [979, 987, 2084, 2092, 3189, 3197]),\n",
       " (69, 0, [759, 767, 1864, 1872, 2969, 2977]),\n",
       " (49, 0, [539, 547, 1644, 1652, 2749, 2757]),\n",
       " (29, 0, [319, 327, 1424, 1432, 2529, 2537]),\n",
       " (9, 0, [99, 107, 1204, 1212, 2309, 2317]),\n",
       " (90, 0, [990, 998, 2095, 2103, 3200, 3208]),\n",
       " (70, 0, [770, 778, 1875, 1883, 2980, 2988]),\n",
       " (50, 0, [550, 558, 1655, 1663, 2760, 2768]),\n",
       " (30, 0, [330, 338, 1435, 1443, 2540, 2548]),\n",
       " (10, 0, [110, 118, 1215, 1223, 2320, 2328]),\n",
       " (91, 0, [1001, 1009, 2106, 2114, 3211, 3219]),\n",
       " (71, 0, [781, 789, 1886, 1894, 2991, 2999]),\n",
       " (51, 0, [561, 569, 1666, 1674, 2771, 2779]),\n",
       " (31, 0, [341, 349, 1446, 1454, 2551, 2559]),\n",
       " (11, 0, [121, 129, 1226, 1234, 2331, 2339]),\n",
       " (92, 0, [1012, 1020, 2117, 2125, 3222, 3230]),\n",
       " (72, 0, [792, 800, 1897, 1905, 3002, 3010]),\n",
       " (52, 0, [572, 580, 1677, 1685, 2782, 2790]),\n",
       " (32, 0, [352, 360, 1457, 1465, 2562, 2570]),\n",
       " (12, 0, [132, 140, 1237, 1245, 2342, 2350]),\n",
       " (93, 0, [1023, 1031, 2128, 2136, 3233, 3241]),\n",
       " (73, 0, [803, 811, 1908, 1916, 3013, 3021]),\n",
       " (53, 0, [583, 591, 1688, 1696, 2793, 2801]),\n",
       " (33, 0, [363, 371, 1468, 1476, 2573, 2581]),\n",
       " (13, 0, [143, 151, 1248, 1256, 2353, 2361]),\n",
       " (94, 0, [1034, 1042, 2139, 2147, 3244, 3252]),\n",
       " (74, 0, [814, 822, 1919, 1927, 3024, 3032]),\n",
       " (54, 0, [594, 602, 1699, 1707, 2804, 2812]),\n",
       " (34, 0, [374, 382, 1479, 1487, 2584, 2592]),\n",
       " (14, 0, [154, 162, 1259, 1267, 2364, 2372]),\n",
       " (95, 0, [1045, 1053, 2150, 2158, 3255, 3263]),\n",
       " (75, 0, [825, 833, 1930, 1938, 3035, 3043]),\n",
       " (55, 0, [605, 613, 1710, 1718, 2815, 2823]),\n",
       " (35, 0, [385, 393, 1490, 1498, 2595, 2603]),\n",
       " (15, 0, [165, 173, 1270, 1278, 2375, 2383]),\n",
       " (96, 0, [1056, 1064, 2161, 2169, 3266, 3274]),\n",
       " (76, 0, [836, 844, 1941, 1949, 3046, 3054]),\n",
       " (56, 0, [616, 624, 1721, 1729, 2826, 2834]),\n",
       " (36, 0, [396, 404, 1501, 1509, 2606, 2614]),\n",
       " (16, 0, [176, 184, 1281, 1289, 2386, 2394]),\n",
       " (97, 0, [1067, 1075, 2172, 2180, 3277, 3285]),\n",
       " (77, 0, [847, 855, 1952, 1960, 3057, 3065]),\n",
       " (57, 0, [627, 635, 1732, 1740, 2837, 2845]),\n",
       " (37, 0, [407, 415, 1512, 1520, 2617, 2625]),\n",
       " (17, 0, [187, 195, 1292, 1300, 2397, 2405])]"
      ]
     },
     "execution_count": 20,
     "metadata": {},
     "output_type": "execute_result"
    }
   ],
   "source": [
    "f = open('./getpos_lr_fl.log', 'r')\n",
    "res = []\n",
    "for line in f.readlines():\n",
    "    tokens = line.split(',')\n",
    "    i, j = int(tokens[1]), int(tokens[2])\n",
    "    values = []\n",
    "    start, last = 3, len(tokens) - 1\n",
    "    values.append(int(tokens[start][7:]))      # first\n",
    "    values.extend(list(map(lambda x: int(x), tokens[start+1:last])))\n",
    "\n",
    "    res.append((i, j, values))\n",
    "\n",
    "res"
   ]
  },
  {
   "cell_type": "code",
   "execution_count": 21,
   "metadata": {},
   "outputs": [
    {
     "name": "stdout",
     "output_type": "stream",
     "text": [
      "600 600\n"
     ]
    }
   ],
   "source": [
    "x, y = [], []\n",
    "for line in res:\n",
    "    for ts in line[2]:\n",
    "        x.append(ts)\n",
    "        y.append(int(line[0]))\n",
    "        # y.append(int(line[0]) * 10 + int(line[1]))\n",
    "        \n",
    "    \n",
    "print(len(x), len(y))"
   ]
  },
  {
   "cell_type": "code",
   "execution_count": 23,
   "metadata": {},
   "outputs": [
    {
     "data": {
      "image/png": "[encoded data removed]",
      "text/plain": [
       "<Figure size 300x200 with 1 Axes>"
      ]
     },
     "metadata": {},
     "output_type": "display_data"
    }
   ],
   "source": [
    "import matplotlib.pyplot as plt\n",
    "import numpy as np\n",
    "\n",
    "plt.rcParams[\"font.family\"] = \"Times New Roman\"\n",
    "plt.rcParams[\"font.size\"] = \"14\"\n",
    "\n",
    "fig = plt.figure(figsize=(3, 2))\n",
    "\n",
    "# ax = fig.add_axes([0, 0, 1, 1])\n",
    "# ax.scatter(x, y, s=1, marker='x', color='grey')\n",
    "# ax.plot([0, 100, 100, 0, 0], [0, 0, 10, 10, 0], color='black')\n",
    "# ax.set_xlabel(\"Logical Timestamp\")\n",
    "# ax.set_ylabel(\"Linearized Tile Coordinates\")\n",
    "# ax.grid()\n",
    "\n",
    "ax2 = fig.add_axes([1.2, 0, 1, 1])\n",
    "ax2.scatter(x, y, s=24, marker='x', color='grey')\n",
    "ax2.set_xlim(0, 100)\n",
    "ax2.set_ylim(0, 10)\n",
    "ax2.set_xlabel(\"Logical Timestamp\")\n",
    "ax2.grid()\n",
    "\n",
    "# plt.show()\n",
    "plt.savefig('eval_pageref_getpos_b.pdf', format='pdf', bbox_inches='tight')"
   ]
  }
 ],
 "metadata": {
  "kernelspec": {
   "display_name": "venv",
   "language": "python",
   "name": "python3"
  },
  "language_info": {
   "codemirror_mode": {
    "name": "ipython",
    "version": 3
   },
   "file_extension": ".py",
   "mimetype": "text/x-python",
   "name": "python",
   "nbconvert_exporter": "python",
   "pygments_lexer": "ipython3",
   "version": "3.8.12"
  },
  "orig_nbformat": 4
 },
 "nbformat": 4,
 "nbformat_minor": 2
}
